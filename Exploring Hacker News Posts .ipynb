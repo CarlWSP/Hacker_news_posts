{
 "cells": [
  {
   "cell_type": "markdown",
   "id": "0020840e",
   "metadata": {},
   "source": [
    "# __Exploring Hacker News Post__"
   ]
  },
  {
   "cell_type": "markdown",
   "id": "4b6282c4",
   "metadata": {},
   "source": [
    "Hacker News is a tech website by Y Combinator. In this website users submit posts which can receive votes and comments similar to many other social media platforms such as Facebook, Reddit and Twitter. Hacker news is especially popular within technology groups with the most popular posts reaching hundreds to thousands of visitors. "
   ]
  },
  {
   "cell_type": "markdown",
   "id": "e7862d5c",
   "metadata": {},
   "source": [
    "![Hacker News LOGO](https://s3.amazonaws.com/dq-content/354/hacker_news.jpg)"
   ]
  },
  {
   "cell_type": "markdown",
   "id": "2aeeafed",
   "metadata": {},
   "source": [
    "You can find the data we will be analyzing [Here](https://www.kaggle.com/hacker-news/hacker-news-posts), but in this project we have reduced roughly 300,00 rows of data into approximately 20,00 rows by removing all submissions that didn’t receive any comments and then randomly sampling from the remining posts.  "
   ]
  },
  {
   "cell_type": "markdown",
   "id": "e6758eaa",
   "metadata": {},
   "source": [
    "Below we have opened and read the CSV file and prepared the data to be analyzed. "
   ]
  },
  {
   "cell_type": "code",
   "execution_count": 1,
   "id": "fdbc8d51",
   "metadata": {},
   "outputs": [],
   "source": [
    "from csv import reader\n",
    "import datetime as dt\n",
    "open_file = open(r'HN_posts_year_to_Sep_26_2016.csv', encoding=\"utf8\")\n",
    "read_file = reader(open_file)\n",
    "hn = list(read_file)\n",
    "hn_header = hn[0]\n",
    "hn = hn[1:]"
   ]
  },
  {
   "cell_type": "markdown",
   "id": "4dbfb0ab",
   "metadata": {},
   "source": [
    "We can also look at the header of the dataset to better understand what we will be working with."
   ]
  },
  {
   "cell_type": "code",
   "execution_count": 2,
   "id": "10c99113",
   "metadata": {},
   "outputs": [
    {
     "name": "stdout",
     "output_type": "stream",
     "text": [
      "['id', 'title', 'url', 'num_points', 'num_comments', 'author', 'created_at']\n"
     ]
    }
   ],
   "source": [
    "print(hn_header)"
   ]
  },
  {
   "cell_type": "markdown",
   "id": "cff05afb",
   "metadata": {},
   "source": [
    "We can see that the colums of our cleaned data contains the following columns. \n",
    "- `id`: the unique identifier from Hacker News for the post\n",
    "- `title`: the title of the post\n",
    "- `url`: the URL that the posts links to, if the post has a URL\n",
    "- `num_points`: the number of points the post acquired, calculated as the total number of upvotes minus the total number of downvotes\n",
    "- `num_comments`: the number of comments on the post\n",
    "- `author`: the username of the person who submitted the post\n",
    "- `created_at`: the date and time of the post's submission\n"
   ]
  },
  {
   "cell_type": "markdown",
   "id": "f5e5c995",
   "metadata": {},
   "source": [
    "Now that we know what the column names are we can look at the first couple of rows of data with in the dataset."
   ]
  },
  {
   "cell_type": "code",
   "execution_count": 3,
   "id": "68d36006",
   "metadata": {},
   "outputs": [
    {
     "name": "stdout",
     "output_type": "stream",
     "text": [
      "[['12579008', 'You have two days to comment if you want stem cells to be classified as your own', 'http://www.regulations.gov/document?D=FDA-2015-D-3719-0018', '1', '0', 'altstar', '9/26/2016 3:26'], ['12579005', 'SQLAR  the SQLite Archiver', 'https://www.sqlite.org/sqlar/doc/trunk/README.md', '1', '0', 'blacksqr', '9/26/2016 3:24'], ['12578997', 'What if we just printed a flatscreen television on the side of our boxes?', 'https://medium.com/vanmoof/our-secrets-out-f21c1f03fdc8#.ietxmez43', '1', '0', 'pavel_lishin', '9/26/2016 3:19'], ['12578989', 'algorithmic music', 'http://cacm.acm.org/magazines/2011/7/109891-algorithmic-composition/fulltext', '1', '0', 'poindontcare', '9/26/2016 3:16']]\n"
     ]
    }
   ],
   "source": [
    "print(hn[0:4])"
   ]
  },
  {
   "cell_type": "markdown",
   "id": "44248b00",
   "metadata": {},
   "source": [
    "## __Defining our Objectives__"
   ]
  },
  {
   "cell_type": "markdown",
   "id": "13e47576",
   "metadata": {},
   "source": [
    "In this project we are going to specifically interested in posts with titles that begin with either `Ask HN` or `Show HN`. Users submitted `Ask HN` posts to ask the Hacker News community a specific question. Below are a few examples: "
   ]
  },
  {
   "cell_type": "markdown",
   "id": "7acf42d9",
   "metadata": {},
   "source": [
    "`Ask HN: How to improve my personal website?\n",
    " Ask HN: Am I the only one outraged by Twitter shutting down share counts?\n",
    " Ask HN: Aby recent changes to CSS that broke mobile?`"
   ]
  },
  {
   "cell_type": "markdown",
   "id": "8e075c4b",
   "metadata": {},
   "source": [
    "Likewise, users submitted Show HN posts to show the Hacker News community a project, product or anything mildly interesting. Below are a few examples: "
   ]
  },
  {
   "cell_type": "markdown",
   "id": "f294e5ce",
   "metadata": {},
   "source": [
    "`Show HN: Wio Link  ESP8266 Based Web of Things Hardware Development Platform'\n",
    " Show HN: Something pointless I made\n",
    " Show HN: Shanhu.io, a programming playground powered by e8vm`"
   ]
  },
  {
   "cell_type": "markdown",
   "id": "2b80b7e5",
   "metadata": {},
   "source": [
    "In this project we sill compare these two types of posts to determine the following:\n",
    "- Do `Ask HN` or `Show HN` receive more comments on average?\n",
    "- Do posts created at a certain time receive more comments on average?\n"
   ]
  },
  {
   "cell_type": "markdown",
   "id": "b3949aba",
   "metadata": {},
   "source": [
    "# __Isolating `Ask HN` and `Show HN`__"
   ]
  },
  {
   "cell_type": "markdown",
   "id": "2f26fe2c",
   "metadata": {},
   "source": [
    "Since we are only concerned with post titles beginning with either `Ask` or `Show`, we can create a new list containing these posts. \n",
    "\n",
    "To isolate the `Ask HN` or `Show posts` we will use the [`startswith()`](https://docs.python.org/3/library/stdtypes.html#str.startswith)  and  [`lower()`](https://docs.python.org/3/library/stdtypes.html#str.lower) method. "
   ]
  },
  {
   "cell_type": "code",
   "execution_count": 4,
   "id": "c6afbd0b",
   "metadata": {},
   "outputs": [
    {
     "name": "stdout",
     "output_type": "stream",
     "text": [
      "[['12578908', 'Ask HN: What TLD do you use for local development?', '', '4', '7', 'Sevrene', '9/26/2016 2:53'], ['12578522', 'Ask HN: How do you pass on your work when you die?', '', '6', '3', 'PascLeRasc', '9/26/2016 1:17'], ['12577908', 'Ask HN: How a DNS problem can be limited to a geographic region?', '', '1', '0', 'kuon', '9/25/2016 22:57'], ['12577870', 'Ask HN: Why join a fund when you can be an angel?', '', '1', '3', 'anthony_james', '9/25/2016 22:48']]\n",
      "Number of Ask_post: 9139\n",
      "\n",
      "\n",
      "[['12578335', 'Show HN: Finding puns computationally', 'http://puns.samueltaylor.org/', '2', '0', 'saamm', '9/26/2016 0:36'], ['12578182', 'Show HN: A simple library for complicated animations', 'https://christinecha.github.io/choreographer-js/', '1', '0', 'christinecha', '9/26/2016 0:01'], ['12578098', 'Show HN: WebGL visualization of DNA sequences', 'http://grondilu.github.io/dna.html', '1', '0', 'grondilu', '9/25/2016 23:44'], ['12577991', 'Show HN: Pomodoro-centric, heirarchical project management with ES6 modules', 'https://github.com/jakebian/zeal', '2', '0', 'dbranes', '9/25/2016 23:17']]\n",
      "Number of Show_post: 10158\n",
      "\n",
      "\n",
      "[['12579008', 'You have two days to comment if you want stem cells to be classified as your own', 'http://www.regulations.gov/document?D=FDA-2015-D-3719-0018', '1', '0', 'altstar', '9/26/2016 3:26'], ['12579005', 'SQLAR  the SQLite Archiver', 'https://www.sqlite.org/sqlar/doc/trunk/README.md', '1', '0', 'blacksqr', '9/26/2016 3:24'], ['12578997', 'What if we just printed a flatscreen television on the side of our boxes?', 'https://medium.com/vanmoof/our-secrets-out-f21c1f03fdc8#.ietxmez43', '1', '0', 'pavel_lishin', '9/26/2016 3:19'], ['12578989', 'algorithmic music', 'http://cacm.acm.org/magazines/2011/7/109891-algorithmic-composition/fulltext', '1', '0', 'poindontcare', '9/26/2016 3:16']]\n",
      "Number of Other_post: 273822\n"
     ]
    }
   ],
   "source": [
    "Ask_post = []\n",
    "Show_post = []\n",
    "other_post = []\n",
    "\n",
    "for rows in hn:\n",
    "    title = rows[1]\n",
    "    title =title.lower()\n",
    "    if title.startswith('ask hn'):\n",
    "        Ask_post.append(rows)\n",
    "    elif title.startswith('show hn'):\n",
    "        Show_post.append(rows)\n",
    "    else:\n",
    "        other_post.append(rows)\n",
    "        \n",
    "print(Ask_post[0:4])\n",
    "print('Number of Ask_post:',len(Ask_post))\n",
    "print('\\n')\n",
    "print(Show_post[0:4])\n",
    "print('Number of Show_post:',len(Show_post))\n",
    "print('\\n')\n",
    "print(other_post[0:4])\n",
    "print('Number of Other_post:',len(other_post))\n"
   ]
  },
  {
   "cell_type": "markdown",
   "id": "20dcb587",
   "metadata": {},
   "source": [
    "## __Calculating The Average Number of Comments__"
   ]
  },
  {
   "cell_type": "markdown",
   "id": "f197bc6f",
   "metadata": {},
   "source": [
    "Now that we have our `Ask_post` and `Show_post` list we can iterate over them and calculate the total a number of comments and the divide them by the number of posts."
   ]
  },
  {
   "cell_type": "code",
   "execution_count": 5,
   "id": "17e64888",
   "metadata": {},
   "outputs": [
    {
     "name": "stdout",
     "output_type": "stream",
     "text": [
      "The average number of comments for ASK HN post is: 10.393478498741656\n",
      "\n",
      "\n",
      "The average number of comments for SHOW HN post is: 4.886099625910612\n"
     ]
    }
   ],
   "source": [
    "total_ask_com = 0\n",
    "total_show_com = 0\n",
    "\n",
    "\n",
    "for row in Ask_post:\n",
    "    com_total = row[4]\n",
    "    com_total = int(com_total)\n",
    "    total_ask_com = total_ask_com + com_total\n",
    "\n",
    "for row in Show_post:\n",
    "    com_total = row[4]\n",
    "    com_total = int(com_total)\n",
    "    total_show_com = total_show_com + com_total\n",
    "\n",
    "    \n",
    "avg_ask_com = total_ask_com / len(Ask_post)\n",
    "\n",
    "agv_show_com = total_show_com / len(Show_post)\n",
    "\n",
    "print('The average number of comments for ASK HN post is:',avg_ask_com)\n",
    "print('\\n')\n",
    "print('The average number of comments for SHOW HN post is:',agv_show_com)"
   ]
  },
  {
   "cell_type": "markdown",
   "id": "dce98fba",
   "metadata": {},
   "source": [
    "We can now see that on average `ASK HN` posts get more than double the amounts of comments compared to `Show HN` posts."
   ]
  },
  {
   "cell_type": "markdown",
   "id": "e31cdfc7",
   "metadata": {},
   "source": [
    "## __Calculating The Time of Post Creation__"
   ]
  },
  {
   "cell_type": "markdown",
   "id": "91fcbacb",
   "metadata": {},
   "source": [
    "Next, we will determine if posts made at certain times of day attract more comments. To determine this, we will do the following steps:\n",
    "- Calculate the number of ask post and comments created in each hour\n",
    "- Calculate the average number of comments ask posts received by hour created \n",
    "\n",
    "We will be using the `datetime` module to work with the data in the created_at column. "
   ]
  },
  {
   "cell_type": "code",
   "execution_count": 6,
   "id": "c525fe18",
   "metadata": {},
   "outputs": [
    {
     "name": "stdout",
     "output_type": "stream",
     "text": [
      "counts_by_hour\n",
      "{'02': 269, '01': 282, '22': 383, '21': 518, '19': 552, '17': 587, '15': 646, '14': 513, '13': 444, '11': 312, '10': 282, '09': 222, '07': 226, '03': 271, '23': 343, '20': 510, '16': 579, '08': 257, '00': 301, '18': 614, '12': 342, '04': 243, '06': 234, '05': 209}\n",
      "\n",
      "\n",
      "comments_by_hour\n",
      "{'02': 2996, '01': 2089, '22': 3372, '21': 4500, '19': 3954, '17': 5547, '15': 18525, '14': 4972, '13': 7245, '11': 2797, '10': 3013, '09': 1477, '07': 1585, '03': 2154, '23': 2297, '20': 4462, '16': 4466, '08': 2362, '00': 2277, '18': 4877, '12': 4234, '04': 2360, '06': 1587, '05': 1838}\n"
     ]
    }
   ],
   "source": [
    "result_list = []\n",
    "\n",
    "for row in Ask_post:\n",
    "    created = row[6]\n",
    "    comments = row[4]\n",
    "    result_list.append([created,comments])\n",
    "    \n",
    "counts_by_hour = {}\n",
    "comments_by_hour = {}\n",
    "\n",
    "for row in result_list:\n",
    "    time = row[0]\n",
    "    comments = int(row[1])\n",
    "    p_time = dt.datetime.strptime(time, '%m/%d/%Y %H:%M')\n",
    "    hour = dt.datetime.strftime(p_time, '%H')\n",
    "    if hour not in counts_by_hour:\n",
    "        counts_by_hour[hour] = 1\n",
    "        comments_by_hour[hour] = comments\n",
    "    else:\n",
    "        counts_by_hour[hour] = counts_by_hour[hour] + 1 \n",
    "        comments_by_hour[hour] = comments_by_hour[hour] + comments\n",
    "\n",
    "print('counts_by_hour')\n",
    "print(counts_by_hour)\n",
    "print('\\n')\n",
    "print('comments_by_hour')\n",
    "print(comments_by_hour)"
   ]
  },
  {
   "cell_type": "markdown",
   "id": "b26599c1",
   "metadata": {},
   "source": [
    "Now that we have created the `comments_by_hour` and `counts_by_hour` dictionary we can iterate over them and divide the comments received for each post by the total hourly number of posts. "
   ]
  },
  {
   "cell_type": "code",
   "execution_count": 7,
   "id": "1dcdaa13",
   "metadata": {
    "scrolled": false
   },
   "outputs": [
    {
     "name": "stdout",
     "output_type": "stream",
     "text": [
      "[['02', 11.137546468401487], ['01', 7.407801418439717], ['22', 8.804177545691905], ['21', 8.687258687258687], ['19', 7.163043478260869], ['17', 9.449744463373083], ['15', 28.676470588235293], ['14', 9.692007797270955], ['13', 16.31756756756757], ['11', 8.96474358974359], ['10', 10.684397163120567], ['09', 6.653153153153153], ['07', 7.013274336283186], ['03', 7.948339483394834], ['23', 6.696793002915452], ['20', 8.749019607843136], ['16', 7.713298791018998], ['08', 9.190661478599221], ['00', 7.5647840531561465], ['18', 7.94299674267101], ['12', 12.380116959064328], ['04', 9.7119341563786], ['06', 6.782051282051282], ['05', 8.794258373205741]]\n"
     ]
    }
   ],
   "source": [
    "avg_by_hour = []\n",
    "\n",
    "for hour in comments_by_hour:\n",
    "    avg_by_hour.append([hour, comments_by_hour[hour]/ counts_by_hour[hour]])\n",
    "    \n",
    "print(avg_by_hour)"
   ]
  },
  {
   "cell_type": "markdown",
   "id": "c66208b3",
   "metadata": {},
   "source": [
    "Now that we have the hourly average for each hour in the day. Our `avg_by_hour` list however is not in order making it hard to read. To rectify this, we can swap the elements in the `avg_by_hour` list around to have the average number of comments first. We will create a new list called `sorted_swap` which will append the new values too. "
   ]
  },
  {
   "cell_type": "code",
   "execution_count": 8,
   "id": "fb01289c",
   "metadata": {
    "scrolled": true
   },
   "outputs": [
    {
     "name": "stdout",
     "output_type": "stream",
     "text": [
      "[[11.137546468401487, '02'], [7.407801418439717, '01'], [8.804177545691905, '22'], [8.687258687258687, '21'], [7.163043478260869, '19'], [9.449744463373083, '17'], [28.676470588235293, '15'], [9.692007797270955, '14'], [16.31756756756757, '13'], [8.96474358974359, '11'], [10.684397163120567, '10'], [6.653153153153153, '09'], [7.013274336283186, '07'], [7.948339483394834, '03'], [6.696793002915452, '23'], [8.749019607843136, '20'], [7.713298791018998, '16'], [9.190661478599221, '08'], [7.5647840531561465, '00'], [7.94299674267101, '18'], [12.380116959064328, '12'], [9.7119341563786, '04'], [6.782051282051282, '06'], [8.794258373205741, '05']]\n"
     ]
    }
   ],
   "source": [
    "swap_avg_by_hour = []\n",
    "\n",
    "for row in avg_by_hour:\n",
    "    hour = row[0]\n",
    "    avg = row[1]\n",
    "    swap_avg_by_hour.append([avg,hour])\n",
    "    \n",
    "print(swap_avg_by_hour)"
   ]
  },
  {
   "cell_type": "markdown",
   "id": "a970ae6e",
   "metadata": {},
   "source": [
    "From there we can use the `sorted()` function to have the largest average appear first in our list. After that we can print the top 5 results and see what hours are the best to get the most comments. "
   ]
  },
  {
   "cell_type": "code",
   "execution_count": 9,
   "id": "ed8f09fb",
   "metadata": {},
   "outputs": [
    {
     "name": "stdout",
     "output_type": "stream",
     "text": [
      "Top 5 Hours for Ask Posts Comments\n",
      "15:00: 28.68 average comments per post\n",
      "13:00: 16.32 average comments per post\n",
      "12:00: 12.38 average comments per post\n",
      "02:00: 11.14 average comments per post\n",
      "10:00: 10.68 average comments per post\n"
     ]
    }
   ],
   "source": [
    "sorted_swap = sorted(swap_avg_by_hour, reverse=True)\n",
    "\n",
    "print('Top 5 Hours for Ask Posts Comments')\n",
    "for row in sorted_swap[0:5]:\n",
    "    hour = row[1]\n",
    "    avg = row[0]\n",
    "    p_hour = dt.datetime.strptime(hour, '%H')\n",
    "    f_hour = dt.datetime.strftime(p_hour, '%H:00')\n",
    "    print('{}: {:.2f} average comments per post'.format(f_hour,avg))\n",
    "    "
   ]
  },
  {
   "cell_type": "markdown",
   "id": "9269bbe7",
   "metadata": {},
   "source": [
    "As we can see in the results the top 3 hours to post `Ask HN` posts are 15:00, 13:00 and 12:00. In the data description we can see that the time zone where the data was collected was Eastern Standard Time. So, the best time to make `Ask HN` posts for people in Central European Time would be 21:00, 19:00 and 18:00. This would mean that the best time to  `Ask HN` get the most responses would be after work."
   ]
  }
 ],
 "metadata": {
  "kernelspec": {
   "display_name": "Python 3",
   "language": "python",
   "name": "python3"
  },
  "language_info": {
   "codemirror_mode": {
    "name": "ipython",
    "version": 3
   },
   "file_extension": ".py",
   "mimetype": "text/x-python",
   "name": "python",
   "nbconvert_exporter": "python",
   "pygments_lexer": "ipython3",
   "version": "3.8.8"
  }
 },
 "nbformat": 4,
 "nbformat_minor": 5
}
